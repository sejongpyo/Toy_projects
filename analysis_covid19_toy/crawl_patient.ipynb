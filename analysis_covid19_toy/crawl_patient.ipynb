{
 "cells": [
  {
   "cell_type": "code",
   "execution_count": 102,
   "metadata": {
    "ExecuteTime": {
     "end_time": "2020-09-27T07:27:29.792024Z",
     "start_time": "2020-09-27T07:27:29.788025Z"
    }
   },
   "outputs": [],
   "source": [
    "import urllib\n",
    "import xmltodict\n",
    "import json\n",
    "import pandas as pd\n",
    "from datetime import datetime"
   ]
  },
  {
   "cell_type": "code",
   "execution_count": 103,
   "metadata": {
    "ExecuteTime": {
     "end_time": "2020-09-27T07:27:30.140476Z",
     "start_time": "2020-09-27T07:27:30.134478Z"
    }
   },
   "outputs": [],
   "source": [
    "today = datetime.today().strftime(\"%Y%m%d\")  # 현재날짜\n"
   ]
  },
  {
   "cell_type": "code",
   "execution_count": 104,
   "metadata": {
    "ExecuteTime": {
     "end_time": "2020-09-27T07:27:31.059912Z",
     "start_time": "2020-09-27T07:27:30.849040Z"
    }
   },
   "outputs": [
    {
     "name": "stdout",
     "output_type": "stream",
     "text": [
      "http://openapi.data.go.kr/openapi/service/rest/Covid19/getCovid19InfStateJson?serviceKey=du7sxfdZ1IgPVwgcIN89XSOUVEow0Eho%2Bv%2B%2BapFpI7P0eHcZazptxafwktGn2BaT3zWsvCy8TE5MNS9suXGZ2g%3D%3D&pageNo=1&numOfRows=500&startCreateDt=20200101&endCreateDt=20200927\n"
     ]
    }
   ],
   "source": [
    "service_key = 'du7sxfdZ1IgPVwgcIN89XSOUVEow0Eho%2Bv%2B%2BapFpI7P0eHcZazptxafwktGn2BaT3zWsvCy8TE5MNS9suXGZ2g%3D%3D'\n",
    "\n",
    "base_url = 'http://openapi.data.go.kr/openapi/service/rest/Covid19/getCovid19InfStateJson'\n",
    "pageNo = '1'\n",
    "numOfRows = '500'\n",
    "startCreateDt = \"20200101\"\n",
    "endCreateDt = today\n",
    "request_url = base_url + '?' + \"serviceKey=\" + service_key+ '&pageNo=' + pageNo + '&numOfRows=' + numOfRows + '&startCreateDt=' + startCreateDt + '&endCreateDt=' + endCreateDt \n",
    "print(request_url)\n",
    "\n",
    "\n",
    "response = urllib.request.urlopen(request_url) #url부름\n",
    "json_str = response.read().decode(\"utf-8\") #json으로 바꾸기 전에 utf-8로 디코딩\n",
    "\n",
    "response.status\n",
    "data_dict=xmltodict.parse(json_str) #딕셔너리로바꾸기\n"
   ]
  },
  {
   "cell_type": "code",
   "execution_count": 105,
   "metadata": {
    "ExecuteTime": {
     "end_time": "2020-09-27T07:27:33.960109Z",
     "start_time": "2020-09-27T07:27:32.972005Z"
    }
   },
   "outputs": [
    {
     "data": {
      "text/html": [
       "<div>\n",
       "<style scoped>\n",
       "    .dataframe tbody tr th:only-of-type {\n",
       "        vertical-align: middle;\n",
       "    }\n",
       "\n",
       "    .dataframe tbody tr th {\n",
       "        vertical-align: top;\n",
       "    }\n",
       "\n",
       "    .dataframe thead th {\n",
       "        text-align: right;\n",
       "    }\n",
       "</style>\n",
       "<table border=\"1\" class=\"dataframe\">\n",
       "  <thead>\n",
       "    <tr style=\"text-align: right;\">\n",
       "      <th></th>\n",
       "      <th>기준일</th>\n",
       "      <th>사망자</th>\n",
       "      <th>확진자</th>\n",
       "    </tr>\n",
       "  </thead>\n",
       "  <tbody>\n",
       "    <tr>\n",
       "      <th>0</th>\n",
       "      <td>20200927</td>\n",
       "      <td>401.0</td>\n",
       "      <td>23611.0</td>\n",
       "    </tr>\n",
       "    <tr>\n",
       "      <th>1</th>\n",
       "      <td>20200926</td>\n",
       "      <td>399.0</td>\n",
       "      <td>23516.0</td>\n",
       "    </tr>\n",
       "    <tr>\n",
       "      <th>2</th>\n",
       "      <td>20200925</td>\n",
       "      <td>395.0</td>\n",
       "      <td>23455.0</td>\n",
       "    </tr>\n",
       "    <tr>\n",
       "      <th>3</th>\n",
       "      <td>20200924</td>\n",
       "      <td>393.0</td>\n",
       "      <td>23341.0</td>\n",
       "    </tr>\n",
       "    <tr>\n",
       "      <th>4</th>\n",
       "      <td>20200923</td>\n",
       "      <td>388.0</td>\n",
       "      <td>23216.0</td>\n",
       "    </tr>\n",
       "    <tr>\n",
       "      <th>...</th>\n",
       "      <td>...</td>\n",
       "      <td>...</td>\n",
       "      <td>...</td>\n",
       "    </tr>\n",
       "    <tr>\n",
       "      <th>269</th>\n",
       "      <td>20200205</td>\n",
       "      <td>0.0</td>\n",
       "      <td>18.0</td>\n",
       "    </tr>\n",
       "    <tr>\n",
       "      <th>270</th>\n",
       "      <td>20200204</td>\n",
       "      <td>0.0</td>\n",
       "      <td>0.0</td>\n",
       "    </tr>\n",
       "    <tr>\n",
       "      <th>271</th>\n",
       "      <td>20200203</td>\n",
       "      <td>0.0</td>\n",
       "      <td>15.0</td>\n",
       "    </tr>\n",
       "    <tr>\n",
       "      <th>272</th>\n",
       "      <td>20200202</td>\n",
       "      <td>2.0</td>\n",
       "      <td>2.0</td>\n",
       "    </tr>\n",
       "    <tr>\n",
       "      <th>273</th>\n",
       "      <td>20200101</td>\n",
       "      <td>0.0</td>\n",
       "      <td>0.0</td>\n",
       "    </tr>\n",
       "  </tbody>\n",
       "</table>\n",
       "<p>274 rows × 3 columns</p>\n",
       "</div>"
      ],
      "text/plain": [
       "          기준일    사망자      확진자\n",
       "0    20200927  401.0  23611.0\n",
       "1    20200926  399.0  23516.0\n",
       "2    20200925  395.0  23455.0\n",
       "3    20200924  393.0  23341.0\n",
       "4    20200923  388.0  23216.0\n",
       "..        ...    ...      ...\n",
       "269  20200205    0.0     18.0\n",
       "270  20200204    0.0      0.0\n",
       "271  20200203    0.0     15.0\n",
       "272  20200202    2.0      2.0\n",
       "273  20200101    0.0      0.0\n",
       "\n",
       "[274 rows x 3 columns]"
      ]
     },
     "execution_count": 105,
     "metadata": {},
     "output_type": "execute_result"
    }
   ],
   "source": [
    "json_data = json.dumps(data_dict,ensure_ascii = False) #딕셔너리를 제이슨으로\n",
    "corona_json=json.loads(json_data) #제이슨 읽기\n",
    "result = pd.DataFrame() #결과값 저장할 데이터 프레임 만들기\n",
    "\n",
    "for item in corona_json['response']['body'][\"items\"]['item']:\n",
    "    s = pd.Series([item[\"stateDt\"],int(item[\"decideCnt\"]),int(item[\"deathCnt\"])] ,index = [\"기준일\",\"확진자\",\"사망자\"])\n",
    "    result = result.append(s, ignore_index = True)\n",
    "result #데이터프레임으로 변환한 결과값"
   ]
  },
  {
   "cell_type": "code",
   "execution_count": 106,
   "metadata": {
    "ExecuteTime": {
     "end_time": "2020-09-27T07:27:36.322981Z",
     "start_time": "2020-09-27T07:27:36.306989Z"
    }
   },
   "outputs": [],
   "source": [
    "#누적확진자 데이터에서 일일확진자데이터 만들기\n",
    "daily_case = []\n",
    "\n",
    "for i in range(len(corona_json['response']['body'][\"items\"]['item'])):\n",
    "    try :\n",
    "        diff = int(result[\"확진자\"][i]) - int(result[\"확진자\"][i+1])\n",
    "        daily_case.append(diff)\n",
    "    except :\n",
    "        daily_case.append(None)\n",
    "        \n",
    "result[\"일일확진자\"] = daily_case"
   ]
  },
  {
   "cell_type": "code",
   "execution_count": 107,
   "metadata": {
    "ExecuteTime": {
     "end_time": "2020-09-27T07:27:36.920322Z",
     "start_time": "2020-09-27T07:27:36.905332Z"
    }
   },
   "outputs": [],
   "source": [
    "#누적사망자 데이터에서 일일확진자데이터 만들기\n",
    "daily_death = []\n",
    "\n",
    "for i in range(len(corona_json['response']['body'][\"items\"]['item'])):\n",
    "    try :\n",
    "        diff = int(result[\"사망자\"][i]) - int(result[\"사망자\"][i+1])\n",
    "        daily_death.append(diff)\n",
    "    except :\n",
    "        daily_death.append(None)\n",
    "        \n",
    "result[\"일일사망자\"] = daily_death"
   ]
  },
  {
   "cell_type": "code",
   "execution_count": 108,
   "metadata": {
    "ExecuteTime": {
     "end_time": "2020-09-27T07:27:38.262937Z",
     "start_time": "2020-09-27T07:27:38.246946Z"
    }
   },
   "outputs": [
    {
     "data": {
      "text/html": [
       "<div>\n",
       "<style scoped>\n",
       "    .dataframe tbody tr th:only-of-type {\n",
       "        vertical-align: middle;\n",
       "    }\n",
       "\n",
       "    .dataframe tbody tr th {\n",
       "        vertical-align: top;\n",
       "    }\n",
       "\n",
       "    .dataframe thead th {\n",
       "        text-align: right;\n",
       "    }\n",
       "</style>\n",
       "<table border=\"1\" class=\"dataframe\">\n",
       "  <thead>\n",
       "    <tr style=\"text-align: right;\">\n",
       "      <th></th>\n",
       "      <th>기준일</th>\n",
       "      <th>사망자</th>\n",
       "      <th>확진자</th>\n",
       "      <th>일일확진자</th>\n",
       "      <th>일일사망자</th>\n",
       "    </tr>\n",
       "  </thead>\n",
       "  <tbody>\n",
       "    <tr>\n",
       "      <th>269</th>\n",
       "      <td>20200205</td>\n",
       "      <td>0.0</td>\n",
       "      <td>18.0</td>\n",
       "      <td>18.0</td>\n",
       "      <td>0.0</td>\n",
       "    </tr>\n",
       "    <tr>\n",
       "      <th>270</th>\n",
       "      <td>20200204</td>\n",
       "      <td>0.0</td>\n",
       "      <td>0.0</td>\n",
       "      <td>-15.0</td>\n",
       "      <td>0.0</td>\n",
       "    </tr>\n",
       "    <tr>\n",
       "      <th>271</th>\n",
       "      <td>20200203</td>\n",
       "      <td>0.0</td>\n",
       "      <td>15.0</td>\n",
       "      <td>13.0</td>\n",
       "      <td>-2.0</td>\n",
       "    </tr>\n",
       "    <tr>\n",
       "      <th>272</th>\n",
       "      <td>20200202</td>\n",
       "      <td>2.0</td>\n",
       "      <td>2.0</td>\n",
       "      <td>2.0</td>\n",
       "      <td>2.0</td>\n",
       "    </tr>\n",
       "    <tr>\n",
       "      <th>273</th>\n",
       "      <td>20200101</td>\n",
       "      <td>0.0</td>\n",
       "      <td>0.0</td>\n",
       "      <td>NaN</td>\n",
       "      <td>NaN</td>\n",
       "    </tr>\n",
       "  </tbody>\n",
       "</table>\n",
       "</div>"
      ],
      "text/plain": [
       "          기준일  사망자   확진자  일일확진자  일일사망자\n",
       "269  20200205  0.0  18.0   18.0    0.0\n",
       "270  20200204  0.0   0.0  -15.0    0.0\n",
       "271  20200203  0.0  15.0   13.0   -2.0\n",
       "272  20200202  2.0   2.0    2.0    2.0\n",
       "273  20200101  0.0   0.0    NaN    NaN"
      ]
     },
     "execution_count": 108,
     "metadata": {},
     "output_type": "execute_result"
    }
   ],
   "source": [
    "result.tail(5)"
   ]
  },
  {
   "cell_type": "code",
   "execution_count": 109,
   "metadata": {
    "ExecuteTime": {
     "end_time": "2020-09-27T07:27:41.965913Z",
     "start_time": "2020-09-27T07:27:41.950918Z"
    }
   },
   "outputs": [
    {
     "name": "stdout",
     "output_type": "stream",
     "text": [
      "<class 'pandas.core.frame.DataFrame'>\n",
      "RangeIndex: 274 entries, 0 to 273\n",
      "Data columns (total 5 columns):\n",
      " #   Column  Non-Null Count  Dtype  \n",
      "---  ------  --------------  -----  \n",
      " 0   기준일     274 non-null    object \n",
      " 1   사망자     274 non-null    float64\n",
      " 2   확진자     274 non-null    float64\n",
      " 3   일일확진자   273 non-null    float64\n",
      " 4   일일사망자   273 non-null    float64\n",
      "dtypes: float64(4), object(1)\n",
      "memory usage: 10.8+ KB\n"
     ]
    }
   ],
   "source": [
    "result.info() #기준일 데이터타입확인"
   ]
  },
  {
   "cell_type": "code",
   "execution_count": 110,
   "metadata": {
    "ExecuteTime": {
     "end_time": "2020-09-27T07:27:45.922805Z",
     "start_time": "2020-09-27T07:27:45.909812Z"
    }
   },
   "outputs": [],
   "source": [
    "#기준일 데이터타입 날짜데이터로 바꾸기\n",
    "#1234-56-78형태로바꾸기\n",
    "new_date = []\n",
    "for i in result[\"기준일\"] :\n",
    "    new_date.append(datetime.strptime(str(i), \"%Y%m%d\").date())\n",
    "result[\"기준일\"] = new_date"
   ]
  },
  {
   "cell_type": "code",
   "execution_count": 111,
   "metadata": {
    "ExecuteTime": {
     "end_time": "2020-09-27T07:27:46.422135Z",
     "start_time": "2020-09-27T07:27:46.405145Z"
    }
   },
   "outputs": [
    {
     "data": {
      "text/html": [
       "<div>\n",
       "<style scoped>\n",
       "    .dataframe tbody tr th:only-of-type {\n",
       "        vertical-align: middle;\n",
       "    }\n",
       "\n",
       "    .dataframe tbody tr th {\n",
       "        vertical-align: top;\n",
       "    }\n",
       "\n",
       "    .dataframe thead th {\n",
       "        text-align: right;\n",
       "    }\n",
       "</style>\n",
       "<table border=\"1\" class=\"dataframe\">\n",
       "  <thead>\n",
       "    <tr style=\"text-align: right;\">\n",
       "      <th></th>\n",
       "      <th>기준일</th>\n",
       "      <th>사망자</th>\n",
       "      <th>확진자</th>\n",
       "      <th>일일확진자</th>\n",
       "      <th>일일사망자</th>\n",
       "    </tr>\n",
       "  </thead>\n",
       "  <tbody>\n",
       "    <tr>\n",
       "      <th>0</th>\n",
       "      <td>2020-09-27</td>\n",
       "      <td>401.0</td>\n",
       "      <td>23611.0</td>\n",
       "      <td>95.0</td>\n",
       "      <td>2.0</td>\n",
       "    </tr>\n",
       "    <tr>\n",
       "      <th>1</th>\n",
       "      <td>2020-09-26</td>\n",
       "      <td>399.0</td>\n",
       "      <td>23516.0</td>\n",
       "      <td>61.0</td>\n",
       "      <td>4.0</td>\n",
       "    </tr>\n",
       "    <tr>\n",
       "      <th>2</th>\n",
       "      <td>2020-09-25</td>\n",
       "      <td>395.0</td>\n",
       "      <td>23455.0</td>\n",
       "      <td>114.0</td>\n",
       "      <td>2.0</td>\n",
       "    </tr>\n",
       "    <tr>\n",
       "      <th>3</th>\n",
       "      <td>2020-09-24</td>\n",
       "      <td>393.0</td>\n",
       "      <td>23341.0</td>\n",
       "      <td>125.0</td>\n",
       "      <td>5.0</td>\n",
       "    </tr>\n",
       "    <tr>\n",
       "      <th>4</th>\n",
       "      <td>2020-09-23</td>\n",
       "      <td>388.0</td>\n",
       "      <td>23216.0</td>\n",
       "      <td>110.0</td>\n",
       "      <td>0.0</td>\n",
       "    </tr>\n",
       "  </tbody>\n",
       "</table>\n",
       "</div>"
      ],
      "text/plain": [
       "          기준일    사망자      확진자  일일확진자  일일사망자\n",
       "0  2020-09-27  401.0  23611.0   95.0    2.0\n",
       "1  2020-09-26  399.0  23516.0   61.0    4.0\n",
       "2  2020-09-25  395.0  23455.0  114.0    2.0\n",
       "3  2020-09-24  393.0  23341.0  125.0    5.0\n",
       "4  2020-09-23  388.0  23216.0  110.0    0.0"
      ]
     },
     "execution_count": 111,
     "metadata": {},
     "output_type": "execute_result"
    }
   ],
   "source": [
    "result.head(5)"
   ]
  },
  {
   "cell_type": "code",
   "execution_count": 112,
   "metadata": {
    "ExecuteTime": {
     "end_time": "2020-09-27T07:27:51.095933Z",
     "start_time": "2020-09-27T07:27:51.089937Z"
    }
   },
   "outputs": [],
   "source": [
    "#날짜데이터로 바꾸기\n",
    "result[\"기준일\"] = pd.to_datetime(result[\"기준일\"])"
   ]
  },
  {
   "cell_type": "code",
   "execution_count": 113,
   "metadata": {
    "ExecuteTime": {
     "end_time": "2020-09-27T07:27:52.574681Z",
     "start_time": "2020-09-27T07:27:52.558693Z"
    }
   },
   "outputs": [
    {
     "data": {
      "text/html": [
       "<div>\n",
       "<style scoped>\n",
       "    .dataframe tbody tr th:only-of-type {\n",
       "        vertical-align: middle;\n",
       "    }\n",
       "\n",
       "    .dataframe tbody tr th {\n",
       "        vertical-align: top;\n",
       "    }\n",
       "\n",
       "    .dataframe thead th {\n",
       "        text-align: right;\n",
       "    }\n",
       "</style>\n",
       "<table border=\"1\" class=\"dataframe\">\n",
       "  <thead>\n",
       "    <tr style=\"text-align: right;\">\n",
       "      <th></th>\n",
       "      <th>기준일</th>\n",
       "      <th>사망자</th>\n",
       "      <th>확진자</th>\n",
       "      <th>일일확진자</th>\n",
       "      <th>일일사망자</th>\n",
       "    </tr>\n",
       "  </thead>\n",
       "  <tbody>\n",
       "    <tr>\n",
       "      <th>0</th>\n",
       "      <td>2020-09-27</td>\n",
       "      <td>401.0</td>\n",
       "      <td>23611.0</td>\n",
       "      <td>95.0</td>\n",
       "      <td>2.0</td>\n",
       "    </tr>\n",
       "    <tr>\n",
       "      <th>1</th>\n",
       "      <td>2020-09-26</td>\n",
       "      <td>399.0</td>\n",
       "      <td>23516.0</td>\n",
       "      <td>61.0</td>\n",
       "      <td>4.0</td>\n",
       "    </tr>\n",
       "    <tr>\n",
       "      <th>2</th>\n",
       "      <td>2020-09-25</td>\n",
       "      <td>395.0</td>\n",
       "      <td>23455.0</td>\n",
       "      <td>114.0</td>\n",
       "      <td>2.0</td>\n",
       "    </tr>\n",
       "    <tr>\n",
       "      <th>3</th>\n",
       "      <td>2020-09-24</td>\n",
       "      <td>393.0</td>\n",
       "      <td>23341.0</td>\n",
       "      <td>125.0</td>\n",
       "      <td>5.0</td>\n",
       "    </tr>\n",
       "    <tr>\n",
       "      <th>4</th>\n",
       "      <td>2020-09-23</td>\n",
       "      <td>388.0</td>\n",
       "      <td>23216.0</td>\n",
       "      <td>110.0</td>\n",
       "      <td>0.0</td>\n",
       "    </tr>\n",
       "  </tbody>\n",
       "</table>\n",
       "</div>"
      ],
      "text/plain": [
       "         기준일    사망자      확진자  일일확진자  일일사망자\n",
       "0 2020-09-27  401.0  23611.0   95.0    2.0\n",
       "1 2020-09-26  399.0  23516.0   61.0    4.0\n",
       "2 2020-09-25  395.0  23455.0  114.0    2.0\n",
       "3 2020-09-24  393.0  23341.0  125.0    5.0\n",
       "4 2020-09-23  388.0  23216.0  110.0    0.0"
      ]
     },
     "execution_count": 113,
     "metadata": {},
     "output_type": "execute_result"
    }
   ],
   "source": [
    "result.head(5)"
   ]
  },
  {
   "cell_type": "code",
   "execution_count": 114,
   "metadata": {
    "ExecuteTime": {
     "end_time": "2020-09-27T07:28:04.582489Z",
     "start_time": "2020-09-27T07:28:04.578491Z"
    }
   },
   "outputs": [],
   "source": [
    "#인덱스로 만들기\n",
    "result = result.set_index(\"기준일\", inplace =False)"
   ]
  },
  {
   "cell_type": "code",
   "execution_count": 115,
   "metadata": {
    "ExecuteTime": {
     "end_time": "2020-09-27T07:28:19.983417Z",
     "start_time": "2020-09-27T07:28:19.966426Z"
    }
   },
   "outputs": [
    {
     "data": {
      "text/html": [
       "<div>\n",
       "<style scoped>\n",
       "    .dataframe tbody tr th:only-of-type {\n",
       "        vertical-align: middle;\n",
       "    }\n",
       "\n",
       "    .dataframe tbody tr th {\n",
       "        vertical-align: top;\n",
       "    }\n",
       "\n",
       "    .dataframe thead th {\n",
       "        text-align: right;\n",
       "    }\n",
       "</style>\n",
       "<table border=\"1\" class=\"dataframe\">\n",
       "  <thead>\n",
       "    <tr style=\"text-align: right;\">\n",
       "      <th></th>\n",
       "      <th>사망자</th>\n",
       "      <th>확진자</th>\n",
       "      <th>일일확진자</th>\n",
       "      <th>일일사망자</th>\n",
       "    </tr>\n",
       "    <tr>\n",
       "      <th>기준일</th>\n",
       "      <th></th>\n",
       "      <th></th>\n",
       "      <th></th>\n",
       "      <th></th>\n",
       "    </tr>\n",
       "  </thead>\n",
       "  <tbody>\n",
       "    <tr>\n",
       "      <th>2020-02-05</th>\n",
       "      <td>0.0</td>\n",
       "      <td>18.0</td>\n",
       "      <td>18.0</td>\n",
       "      <td>0.0</td>\n",
       "    </tr>\n",
       "    <tr>\n",
       "      <th>2020-02-04</th>\n",
       "      <td>0.0</td>\n",
       "      <td>0.0</td>\n",
       "      <td>-15.0</td>\n",
       "      <td>0.0</td>\n",
       "    </tr>\n",
       "    <tr>\n",
       "      <th>2020-02-03</th>\n",
       "      <td>0.0</td>\n",
       "      <td>15.0</td>\n",
       "      <td>13.0</td>\n",
       "      <td>-2.0</td>\n",
       "    </tr>\n",
       "    <tr>\n",
       "      <th>2020-02-02</th>\n",
       "      <td>2.0</td>\n",
       "      <td>2.0</td>\n",
       "      <td>2.0</td>\n",
       "      <td>2.0</td>\n",
       "    </tr>\n",
       "    <tr>\n",
       "      <th>2020-01-01</th>\n",
       "      <td>0.0</td>\n",
       "      <td>0.0</td>\n",
       "      <td>NaN</td>\n",
       "      <td>NaN</td>\n",
       "    </tr>\n",
       "  </tbody>\n",
       "</table>\n",
       "</div>"
      ],
      "text/plain": [
       "            사망자   확진자  일일확진자  일일사망자\n",
       "기준일                                \n",
       "2020-02-05  0.0  18.0   18.0    0.0\n",
       "2020-02-04  0.0   0.0  -15.0    0.0\n",
       "2020-02-03  0.0  15.0   13.0   -2.0\n",
       "2020-02-02  2.0   2.0    2.0    2.0\n",
       "2020-01-01  0.0   0.0    NaN    NaN"
      ]
     },
     "execution_count": 115,
     "metadata": {},
     "output_type": "execute_result"
    }
   ],
   "source": [
    "result.tail(5)"
   ]
  },
  {
   "cell_type": "code",
   "execution_count": 116,
   "metadata": {
    "ExecuteTime": {
     "end_time": "2020-09-27T07:28:20.857651Z",
     "start_time": "2020-09-27T07:28:20.850654Z"
    }
   },
   "outputs": [],
   "source": [
    "#결측치값있는 행 지우기\n",
    "result = result.dropna(axis = 0)"
   ]
  },
  {
   "cell_type": "code",
   "execution_count": 117,
   "metadata": {
    "ExecuteTime": {
     "end_time": "2020-09-27T07:28:24.508395Z",
     "start_time": "2020-09-27T07:28:24.486408Z"
    }
   },
   "outputs": [
    {
     "data": {
      "text/html": [
       "<div>\n",
       "<style scoped>\n",
       "    .dataframe tbody tr th:only-of-type {\n",
       "        vertical-align: middle;\n",
       "    }\n",
       "\n",
       "    .dataframe tbody tr th {\n",
       "        vertical-align: top;\n",
       "    }\n",
       "\n",
       "    .dataframe thead th {\n",
       "        text-align: right;\n",
       "    }\n",
       "</style>\n",
       "<table border=\"1\" class=\"dataframe\">\n",
       "  <thead>\n",
       "    <tr style=\"text-align: right;\">\n",
       "      <th></th>\n",
       "      <th>사망자</th>\n",
       "      <th>확진자</th>\n",
       "      <th>일일확진자</th>\n",
       "      <th>일일사망자</th>\n",
       "    </tr>\n",
       "    <tr>\n",
       "      <th>기준일</th>\n",
       "      <th></th>\n",
       "      <th></th>\n",
       "      <th></th>\n",
       "      <th></th>\n",
       "    </tr>\n",
       "  </thead>\n",
       "  <tbody>\n",
       "    <tr>\n",
       "      <th>2020-09-27</th>\n",
       "      <td>401.0</td>\n",
       "      <td>23611.0</td>\n",
       "      <td>95.0</td>\n",
       "      <td>2.0</td>\n",
       "    </tr>\n",
       "    <tr>\n",
       "      <th>2020-09-26</th>\n",
       "      <td>399.0</td>\n",
       "      <td>23516.0</td>\n",
       "      <td>61.0</td>\n",
       "      <td>4.0</td>\n",
       "    </tr>\n",
       "    <tr>\n",
       "      <th>2020-09-25</th>\n",
       "      <td>395.0</td>\n",
       "      <td>23455.0</td>\n",
       "      <td>114.0</td>\n",
       "      <td>2.0</td>\n",
       "    </tr>\n",
       "    <tr>\n",
       "      <th>2020-09-24</th>\n",
       "      <td>393.0</td>\n",
       "      <td>23341.0</td>\n",
       "      <td>125.0</td>\n",
       "      <td>5.0</td>\n",
       "    </tr>\n",
       "    <tr>\n",
       "      <th>2020-09-23</th>\n",
       "      <td>388.0</td>\n",
       "      <td>23216.0</td>\n",
       "      <td>110.0</td>\n",
       "      <td>0.0</td>\n",
       "    </tr>\n",
       "    <tr>\n",
       "      <th>...</th>\n",
       "      <td>...</td>\n",
       "      <td>...</td>\n",
       "      <td>...</td>\n",
       "      <td>...</td>\n",
       "    </tr>\n",
       "    <tr>\n",
       "      <th>2020-02-05</th>\n",
       "      <td>0.0</td>\n",
       "      <td>19.0</td>\n",
       "      <td>1.0</td>\n",
       "      <td>0.0</td>\n",
       "    </tr>\n",
       "    <tr>\n",
       "      <th>2020-02-05</th>\n",
       "      <td>0.0</td>\n",
       "      <td>18.0</td>\n",
       "      <td>18.0</td>\n",
       "      <td>0.0</td>\n",
       "    </tr>\n",
       "    <tr>\n",
       "      <th>2020-02-04</th>\n",
       "      <td>0.0</td>\n",
       "      <td>0.0</td>\n",
       "      <td>-15.0</td>\n",
       "      <td>0.0</td>\n",
       "    </tr>\n",
       "    <tr>\n",
       "      <th>2020-02-03</th>\n",
       "      <td>0.0</td>\n",
       "      <td>15.0</td>\n",
       "      <td>13.0</td>\n",
       "      <td>-2.0</td>\n",
       "    </tr>\n",
       "    <tr>\n",
       "      <th>2020-02-02</th>\n",
       "      <td>2.0</td>\n",
       "      <td>2.0</td>\n",
       "      <td>2.0</td>\n",
       "      <td>2.0</td>\n",
       "    </tr>\n",
       "  </tbody>\n",
       "</table>\n",
       "<p>273 rows × 4 columns</p>\n",
       "</div>"
      ],
      "text/plain": [
       "              사망자      확진자  일일확진자  일일사망자\n",
       "기준일                                     \n",
       "2020-09-27  401.0  23611.0   95.0    2.0\n",
       "2020-09-26  399.0  23516.0   61.0    4.0\n",
       "2020-09-25  395.0  23455.0  114.0    2.0\n",
       "2020-09-24  393.0  23341.0  125.0    5.0\n",
       "2020-09-23  388.0  23216.0  110.0    0.0\n",
       "...           ...      ...    ...    ...\n",
       "2020-02-05    0.0     19.0    1.0    0.0\n",
       "2020-02-05    0.0     18.0   18.0    0.0\n",
       "2020-02-04    0.0      0.0  -15.0    0.0\n",
       "2020-02-03    0.0     15.0   13.0   -2.0\n",
       "2020-02-02    2.0      2.0    2.0    2.0\n",
       "\n",
       "[273 rows x 4 columns]"
      ]
     },
     "execution_count": 117,
     "metadata": {},
     "output_type": "execute_result"
    }
   ],
   "source": [
    "result"
   ]
  },
  {
   "cell_type": "code",
   "execution_count": 118,
   "metadata": {
    "ExecuteTime": {
     "end_time": "2020-09-27T07:28:29.188784Z",
     "start_time": "2020-09-27T07:28:29.184787Z"
    }
   },
   "outputs": [],
   "source": [
    "#일별 사망자, 확진자 파일 저장\n",
    "result.to_excel(\"daily_corona_result.xlsx\" , index = False, encoding= \"euc-kr\")"
   ]
  },
  {
   "cell_type": "code",
   "execution_count": 119,
   "metadata": {
    "ExecuteTime": {
     "end_time": "2020-09-27T07:28:29.889355Z",
     "start_time": "2020-09-27T07:28:29.878360Z"
    }
   },
   "outputs": [],
   "source": [
    "#월별 평균 데이터 만들기\n",
    "m_corona = result.resample('M').mean()"
   ]
  },
  {
   "cell_type": "code",
   "execution_count": 120,
   "metadata": {
    "ExecuteTime": {
     "end_time": "2020-09-27T07:28:30.938393Z",
     "start_time": "2020-09-27T07:28:30.922402Z"
    }
   },
   "outputs": [
    {
     "data": {
      "text/html": [
       "<div>\n",
       "<style scoped>\n",
       "    .dataframe tbody tr th:only-of-type {\n",
       "        vertical-align: middle;\n",
       "    }\n",
       "\n",
       "    .dataframe tbody tr th {\n",
       "        vertical-align: top;\n",
       "    }\n",
       "\n",
       "    .dataframe thead th {\n",
       "        text-align: right;\n",
       "    }\n",
       "</style>\n",
       "<table border=\"1\" class=\"dataframe\">\n",
       "  <thead>\n",
       "    <tr style=\"text-align: right;\">\n",
       "      <th></th>\n",
       "      <th>사망자</th>\n",
       "      <th>확진자</th>\n",
       "      <th>일일확진자</th>\n",
       "      <th>일일사망자</th>\n",
       "    </tr>\n",
       "    <tr>\n",
       "      <th>기준일</th>\n",
       "      <th></th>\n",
       "      <th></th>\n",
       "      <th></th>\n",
       "      <th></th>\n",
       "    </tr>\n",
       "  </thead>\n",
       "  <tbody>\n",
       "    <tr>\n",
       "      <th>2020-02-29</th>\n",
       "      <td>2.771930</td>\n",
       "      <td>408.771930</td>\n",
       "      <td>55.263158</td>\n",
       "      <td>0.298246</td>\n",
       "    </tr>\n",
       "    <tr>\n",
       "      <th>2020-03-31</th>\n",
       "      <td>82.636364</td>\n",
       "      <td>7740.787879</td>\n",
       "      <td>201.090909</td>\n",
       "      <td>4.393939</td>\n",
       "    </tr>\n",
       "    <tr>\n",
       "      <th>2020-04-30</th>\n",
       "      <td>217.393939</td>\n",
       "      <td>10571.333333</td>\n",
       "      <td>29.666667</td>\n",
       "      <td>2.575758</td>\n",
       "    </tr>\n",
       "    <tr>\n",
       "      <th>2020-05-31</th>\n",
       "      <td>260.677419</td>\n",
       "      <td>11039.677419</td>\n",
       "      <td>22.677419</td>\n",
       "      <td>0.741935</td>\n",
       "    </tr>\n",
       "    <tr>\n",
       "      <th>2020-06-30</th>\n",
       "      <td>277.533333</td>\n",
       "      <td>12148.600000</td>\n",
       "      <td>44.400000</td>\n",
       "      <td>0.400000</td>\n",
       "    </tr>\n",
       "    <tr>\n",
       "      <th>2020-07-31</th>\n",
       "      <td>291.548387</td>\n",
       "      <td>13610.806452</td>\n",
       "      <td>48.548387</td>\n",
       "      <td>0.612903</td>\n",
       "    </tr>\n",
       "    <tr>\n",
       "      <th>2020-08-31</th>\n",
       "      <td>307.548387</td>\n",
       "      <td>16116.225806</td>\n",
       "      <td>182.000000</td>\n",
       "      <td>0.741935</td>\n",
       "    </tr>\n",
       "    <tr>\n",
       "      <th>2020-09-30</th>\n",
       "      <td>361.592593</td>\n",
       "      <td>22158.925926</td>\n",
       "      <td>135.703704</td>\n",
       "      <td>2.851852</td>\n",
       "    </tr>\n",
       "  </tbody>\n",
       "</table>\n",
       "</div>"
      ],
      "text/plain": [
       "                   사망자           확진자       일일확진자     일일사망자\n",
       "기준일                                                       \n",
       "2020-02-29    2.771930    408.771930   55.263158  0.298246\n",
       "2020-03-31   82.636364   7740.787879  201.090909  4.393939\n",
       "2020-04-30  217.393939  10571.333333   29.666667  2.575758\n",
       "2020-05-31  260.677419  11039.677419   22.677419  0.741935\n",
       "2020-06-30  277.533333  12148.600000   44.400000  0.400000\n",
       "2020-07-31  291.548387  13610.806452   48.548387  0.612903\n",
       "2020-08-31  307.548387  16116.225806  182.000000  0.741935\n",
       "2020-09-30  361.592593  22158.925926  135.703704  2.851852"
      ]
     },
     "execution_count": 120,
     "metadata": {},
     "output_type": "execute_result"
    }
   ],
   "source": [
    "m_corona"
   ]
  },
  {
   "cell_type": "code",
   "execution_count": 81,
   "metadata": {
    "ExecuteTime": {
     "end_time": "2020-09-27T06:58:15.618184Z",
     "start_time": "2020-09-27T06:58:15.613188Z"
    }
   },
   "outputs": [],
   "source": [
    "#월별 데이터 저장\n",
    "m_corona.to_excel(\"m_corona.xlsx\" , index = False, encoding= \"euc-kr\")"
   ]
  },
  {
   "cell_type": "code",
   "execution_count": null,
   "metadata": {},
   "outputs": [],
   "source": []
  },
  {
   "cell_type": "code",
   "execution_count": null,
   "metadata": {},
   "outputs": [],
   "source": []
  }
 ],
 "metadata": {
  "kernelspec": {
   "display_name": "Python 3",
   "language": "python",
   "name": "python3"
  },
  "language_info": {
   "codemirror_mode": {
    "name": "ipython",
    "version": 3
   },
   "file_extension": ".py",
   "mimetype": "text/x-python",
   "name": "python",
   "nbconvert_exporter": "python",
   "pygments_lexer": "ipython3",
   "version": "3.7.9"
  },
  "toc": {
   "base_numbering": 1,
   "nav_menu": {},
   "number_sections": true,
   "sideBar": true,
   "skip_h1_title": false,
   "title_cell": "Table of Contents",
   "title_sidebar": "Contents",
   "toc_cell": false,
   "toc_position": {},
   "toc_section_display": true,
   "toc_window_display": false
  }
 },
 "nbformat": 4,
 "nbformat_minor": 4
}
